{
 "cells": [
  {
   "cell_type": "markdown",
   "metadata": {},
   "source": [
    "Вам нужно помочь секретарю автоматизировать работу. Для этого нужно написать программу, которая будет на основе хранимых данных исполнять пользовательские команды."
   ]
  },
  {
   "cell_type": "code",
   "execution_count": 80,
   "metadata": {},
   "outputs": [],
   "source": [
    "documents = [\n",
    " {'type': 'passport', 'number': '2207 876234', 'name': 'Василий Гупкин'},\n",
    " {'type': 'invoice', 'number': '11-2', 'name': 'Геннадий Покемонов'},\n",
    " {'type': 'insurance', 'number': '10006', 'name': 'Аристарх Павлов'}\n",
    "]\n",
    "\n",
    "directories = {\n",
    " '1': ['2207 876234', '11-2'],\n",
    " '2': ['10006'],\n",
    " '3': []\n",
    "}"
   ]
  },
  {
   "cell_type": "code",
   "execution_count": 78,
   "metadata": {},
   "outputs": [],
   "source": [
    "def main(all_documents, all_directories):\n",
    "    while True:\n",
    "        user_input = input('Введите команду: ').lower()\n",
    "        if user_input == 'p':\n",
    "            num = input('Введите номер документа: ')\n",
    "            print(name_by_number(all_documents, num))\n",
    "        elif user_input == 's':\n",
    "            num = input('Введите номер документа: ')\n",
    "            print('Документ хранится на полке: ', shelf_by_number(all_directories, num))\n",
    "        elif user_input == 'l':\n",
    "            all_info(all_documents, all_directories)\n",
    "        elif user_input == 'ads':\n",
    "            num_shelf = input('Введите номер полки: ')\n",
    "            print(ad_shelf(all_directories, num_shelf))\n",
    "        elif user_input == 'ds':\n",
    "            num_shelf = input('Введите номер полки: ')\n",
    "            print(del_shelf(all_directories, num_shelf))\n",
    "        elif user_input == 'q':\n",
    "            print('Конец работы')\n",
    "            break"
   ]
  },
  {
   "cell_type": "code",
   "execution_count": 6,
   "metadata": {},
   "outputs": [],
   "source": [
    "def name_by_number(all_documents, num):\n",
    "    for doc in all_documents:\n",
    "        if doc['number'] == num:\n",
    "            return doc['name']\n",
    "    return 'Документ не найден в базе'"
   ]
  },
  {
   "cell_type": "code",
   "execution_count": 56,
   "metadata": {},
   "outputs": [],
   "source": [
    "def shelf_by_number(all_directories, num):\n",
    "    for key, direct in all_directories.items():\n",
    "        if num in direct:\n",
    "            return key\n",
    "    return 'Документ не найден в базе'"
   ]
  },
  {
   "cell_type": "code",
   "execution_count": 57,
   "metadata": {},
   "outputs": [],
   "source": [
    "def all_info(all_documents, all_directories):\n",
    "    for doc in all_documents:\n",
    "        print (f\"№: {doc['number']}, тип: {doc['type']}, владелец: {doc['name']}, полка хранения: {shelf_by_number(all_directories, doc['number'])}\")"
   ]
  },
  {
   "cell_type": "code",
   "execution_count": 63,
   "metadata": {},
   "outputs": [],
   "source": [
    "def ad_shelf(all_directories, num_shelf):\n",
    "    if num_shelf in all_directories.keys():\n",
    "        return 'Такая полка уже существует. Текущий перечень полок: ' + ', '.join(all_directories.keys())\n",
    "    else:\n",
    "        all_directories[num_shelf] = []\n",
    "        return 'Полка добавлена. Текущий перечень полок: ' + ', '.join(all_directories.keys())"
   ]
  },
  {
   "cell_type": "code",
   "execution_count": 76,
   "metadata": {},
   "outputs": [],
   "source": [
    "def del_shelf(all_directories, num_shelf):\n",
    "    if num_shelf in all_directories.keys():\n",
    "        if all_directories[num_shelf] != []:\n",
    "            return 'На полке есть документы, удалите их перед удалением полки. Текущий перечень полок: ' + ', '.join(all_directories.keys())\n",
    "        else:\n",
    "            del(all_directories[num_shelf])\n",
    "            return 'Полка удалена. Текущий перечень полок: ' + ', '.join(all_directories.keys())\n",
    "    else:\n",
    "        return 'Такой полки не существует. Текущий перечень полок: ' + ', '.join(all_directories.keys())"
   ]
  },
  {
   "cell_type": "code",
   "execution_count": null,
   "metadata": {},
   "outputs": [
    {
     "name": "stdout",
     "output_type": "stream",
     "text": [
      "Введите команду: p\n",
      "Введите номер документа: 10006\n",
      "Аристарх Павлов\n",
      "Введите команду: s\n",
      "Введите номер документа: 10006\n",
      "Документ хранится на полке:  2\n",
      "Введите команду: l\n",
      "№: 2207 876234, тип: passport, владелец: Василий Гупкин, полка хранения: 1\n",
      "№: 11-2, тип: invoice, владелец: Геннадий Покемонов, полка хранения: 1\n",
      "№: 10006, тип: insurance, владелец: Аристарх Павлов, полка хранения: 2\n",
      "Введите команду: ads\n",
      "Введите номер полки: 2\n",
      "Такая полка уже существует. Текущий перечень полок:1, 2, 3\n",
      "Введите команду: ds\n",
      "Введите номер полки: 1\n",
      "На полке есть документы, удалите их перед удалением полки. Текущий перечень полок: 1, 2, 3\n"
     ]
    }
   ],
   "source": [
    "main(documents, directories)"
   ]
  },
  {
   "cell_type": "code",
   "execution_count": null,
   "metadata": {},
   "outputs": [],
   "source": []
  }
 ],
 "metadata": {
  "kernelspec": {
   "display_name": "Python 3",
   "language": "python",
   "name": "python3"
  },
  "language_info": {
   "codemirror_mode": {
    "name": "ipython",
    "version": 3
   },
   "file_extension": ".py",
   "mimetype": "text/x-python",
   "name": "python",
   "nbconvert_exporter": "python",
   "pygments_lexer": "ipython3",
   "version": "3.8.5"
  }
 },
 "nbformat": 4,
 "nbformat_minor": 4
}
