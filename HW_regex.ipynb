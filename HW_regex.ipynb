{
 "cells": [
  {
   "cell_type": "markdown",
   "metadata": {},
   "source": [
    "# Задание 1"
   ]
  },
  {
   "cell_type": "markdown",
   "metadata": {},
   "source": [
    "Напишите функцию, которая принимает на вход строку и проверяет является ли она валидным транспортным номером (1 буква, 3 цифры, 2 буквы, 2-3 цифры). Обратите внимание, что не все буквы кириллического алфавита используются в транспортных номерах.\n",
    "Если номер валиден, то функция должна возвращать отдельно номер и регион."
   ]
  },
  {
   "cell_type": "code",
   "execution_count": 3,
   "metadata": {},
   "outputs": [],
   "source": [
    "import re"
   ]
  },
  {
   "cell_type": "code",
   "execution_count": 14,
   "metadata": {},
   "outputs": [
    {
     "data": {
      "text/plain": [
       "'Номер: A222BC. Регион: 96'"
      ]
     },
     "execution_count": 14,
     "metadata": {},
     "output_type": "execute_result"
    }
   ],
   "source": [
    "car_ID = 'A222BC96'\n",
    "\n",
    "def valid_car_id(car_id):\n",
    "    car_id_pattern = r'[АВЕКМНОРСТУХABEKMHOPCTYX]{1}\\d{3}[АВЕКМНОРСТУХABEKMHOPCTYX]{2}\\d{2,3}'\n",
    "    result = re.findall(car_id_pattern, car_id)\n",
    "    for res in result:\n",
    "        return f'Номер: {res[:6]}. Регион: {res[6:]}'\n",
    "    return f'Номер не валиден'\n",
    "                                                      \n",
    "valid_car_id(car_ID)"
   ]
  },
  {
   "cell_type": "markdown",
   "metadata": {},
   "source": [
    "# Задание 2"
   ]
  },
  {
   "cell_type": "markdown",
   "metadata": {},
   "source": [
    "Напишите функцию, которая будет удалять все последовательные повторы слов из заданной строки при помощи регулярных выражений."
   ]
  },
  {
   "cell_type": "code",
   "execution_count": 19,
   "metadata": {},
   "outputs": [
    {
     "data": {
      "text/plain": [
       "'Напишите функцию, которая будет удалять все последовательные повторы слов из заданной строки при помощи регулярных выражений.'"
      ]
     },
     "execution_count": 19,
     "metadata": {},
     "output_type": "execute_result"
    }
   ],
   "source": [
    "some_string = 'Напишите функцию функцию, которая будет будет будет будет удалять все все все все последовательные повторы слов из из из из заданной строки строки при помощи регулярных выражений.'\n",
    "\n",
    "def del_repeat_word(string):\n",
    "    result = re.sub(r'\\b(\\w+)( \\1\\b)+', r'\\1', some_string)\n",
    "    return result\n",
    "\n",
    "del_repeat_word(some_string)"
   ]
  },
  {
   "cell_type": "markdown",
   "metadata": {},
   "source": [
    "# Задание 3"
   ]
  },
  {
   "cell_type": "markdown",
   "metadata": {},
   "source": [
    "Напишите функцию, которая будет возвращать акроним по переданной в нее строке со словами."
   ]
  },
  {
   "cell_type": "code",
   "execution_count": 24,
   "metadata": {},
   "outputs": [
    {
     "data": {
      "text/plain": [
       "'NFC'"
      ]
     },
     "execution_count": 24,
     "metadata": {},
     "output_type": "execute_result"
    }
   ],
   "source": [
    "some_words = 'Near Field Communication'\n",
    "\n",
    "def acronym_words(words):\n",
    "    result = re.findall(r'\\b\\w', words)\n",
    "    return ''.join(result).upper()\n",
    "\n",
    "acronym_words(some_words)"
   ]
  },
  {
   "cell_type": "markdown",
   "metadata": {},
   "source": [
    "# Задание 4"
   ]
  },
  {
   "cell_type": "markdown",
   "metadata": {},
   "source": [
    "Напишите функцию, которая будет принимать на вход список email-адресов и выводить их распределение по доменным зонам."
   ]
  },
  {
   "cell_type": "code",
   "execution_count": 34,
   "metadata": {},
   "outputs": [
    {
     "name": "stdout",
     "output_type": "stream",
     "text": [
      "gmail.com: 2\n",
      "mail.ru: 1\n",
      "test.in: 1\n",
      "ya.ru: 2\n"
     ]
    }
   ],
   "source": [
    "emails_ = ['test@gmail.com', 'xyz@test.in', 'test@ya.ru', 'xyz@mail.ru', 'xyz@ya.ru', 'xyz@gmail.com']\n",
    "\n",
    "def def_emails(emails):\n",
    "    result = list(map(lambda e: re.findall(r'@.+\\..+', e)[0], emails))\n",
    "    result2 = map(lambda e: (e, result.count(e)), set(result))\n",
    "    \n",
    "    for d, c in result2:\n",
    "        print(f'{d[1:]}: {c}')\n",
    "\n",
    "def_emails(emails_)"
   ]
  },
  {
   "cell_type": "markdown",
   "metadata": {},
   "source": [
    "# Задание 5"
   ]
  },
  {
   "cell_type": "markdown",
   "metadata": {},
   "source": [
    "Напишите функцию, которая будет подсчитывать сколько слов начинается на гласные, а сколько на согласные буквы в тексте (текст может быть написан как с использованием букв кириллицы, так и латиницы)."
   ]
  },
  {
   "cell_type": "code",
   "execution_count": 39,
   "metadata": {},
   "outputs": [
    {
     "data": {
      "text/plain": [
       "'Слов на гласные буквы: 9. Слов на согласные буквы: 21'"
      ]
     },
     "execution_count": 39,
     "metadata": {},
     "output_type": "execute_result"
    }
   ],
   "source": [
    "some_text = 'Эталонной реализацией Python является интерпретатор CPython, поддерживающий большинство активно используемых платформ. Он распространяется под свободной лицензией Python Software Foundation License, позволяющей использовать его без ограничений в любых приложениях, включая проприетарные.'\n",
    "\n",
    "def con_vow_words(text):\n",
    "    text = text.lower()\n",
    "    result_vow = re.findall(r'\\b[аеёиоуэюяaeiouy]{1}', text)\n",
    "    result_con = re.findall(r'\\b[бвгджзйклмнпрстфхцчшщbcdfghjklmnpqrstvwxz]{1}', text)\n",
    "    return f'Слов на гласные буквы: {len(result_vow)}. Слов на согласные буквы: {len(result_con)}'\n",
    "\n",
    "con_vow_words(some_text)"
   ]
  },
  {
   "cell_type": "markdown",
   "metadata": {},
   "source": [
    "# Задание 6"
   ]
  },
  {
   "cell_type": "markdown",
   "metadata": {},
   "source": [
    "Напишите функцию, которая будет проверять номер сотового телефона на валидность (только для российского формата), если он валиден, то переводить его в формат:\n",
    "+7-xxx-xxx-xx-xx\n",
    "Постарайтесь предусмотреть как можно больше адекватных форматов изначального ввода номера. "
   ]
  },
  {
   "cell_type": "code",
   "execution_count": 85,
   "metadata": {},
   "outputs": [
    {
     "data": {
      "text/plain": [
       "'+7-955-555-55-55'"
      ]
     },
     "execution_count": 85,
     "metadata": {},
     "output_type": "execute_result"
    }
   ],
   "source": [
    "#phone = '+7 955 555-55-55'\n",
    "#phone = '8(955)555-55-55'\n",
    "#phone = '+7 955 555 55 55'\n",
    "phone = '7(955) 555-55-55'\n",
    "#phone = '423-555-55-5555'\n",
    "\n",
    "def valid_phone_number(phone_number):\n",
    "    phone_number_pattern = r'(?:\\+7?|[78]?)[ (]{0,2}\\d{3}[ )]{0,2}\\d{3}[ -]?\\d{2}[ -]?\\d{2}'\n",
    "    result = re.findall(phone_number_pattern, phone_number)\n",
    "    if result != []:\n",
    "        result_new = result[0].replace('+', '').replace('-', ' ').replace('(', ' ').replace(')', ' ').split()\n",
    "        return f'+7-{result_new[1]}-{result_new[2]}-{result_new[3]}-{result_new[4]}'\n",
    "    return f'Номер не валиден'\n",
    "    \n",
    "valid_phone_number(phone)"
   ]
  },
  {
   "cell_type": "code",
   "execution_count": null,
   "metadata": {},
   "outputs": [],
   "source": []
  }
 ],
 "metadata": {
  "kernelspec": {
   "display_name": "Python 3",
   "language": "python",
   "name": "python3"
  },
  "language_info": {
   "codemirror_mode": {
    "name": "ipython",
    "version": 3
   },
   "file_extension": ".py",
   "mimetype": "text/x-python",
   "name": "python",
   "nbconvert_exporter": "python",
   "pygments_lexer": "ipython3",
   "version": "3.8.5"
  }
 },
 "nbformat": 4,
 "nbformat_minor": 4
}
