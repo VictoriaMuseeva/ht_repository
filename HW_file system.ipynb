{
 "cells": [
  {
   "cell_type": "code",
   "execution_count": 18,
   "metadata": {},
   "outputs": [],
   "source": [
    "import json\n",
    "f = open('/Users/viktoria/Documents/Netology/ht_repository/data/purchase_log.txt', 'r')\n",
    "f.readline()\n",
    "purchases = {}\n",
    "for line in f:\n",
    "    purchase = json.loads(line)\n",
    "    purchases[purchase['user_id']] = purchase['category']\n",
    "f.close()\n",
    "\n",
    "    \n",
    "fl = open('/Users/viktoria/Documents/Netology/ht_repository/data/visit_log.csv', 'r')\n",
    "fl.readline()\n",
    "fn = open('/Users/viktoria/Documents/Netology/ht_repository/data/funnel.csv', 'w')\n",
    "fn.write('user_id,source,category\\n')\n",
    "for line in fl:\n",
    "    line = line.split(',')\n",
    "    if line[0] in purchases.keys():\n",
    "        fn.write(f\"{line[0]},{line[1].strip()},{purchases[line[0]]}\\n\")\n",
    "fl.close()\n",
    "fn.close()"
   ]
  },
  {
   "cell_type": "code",
   "execution_count": null,
   "metadata": {},
   "outputs": [],
   "source": []
  }
 ],
 "metadata": {
  "kernelspec": {
   "display_name": "Python 3",
   "language": "python",
   "name": "python3"
  },
  "language_info": {
   "codemirror_mode": {
    "name": "ipython",
    "version": 3
   },
   "file_extension": ".py",
   "mimetype": "text/x-python",
   "name": "python",
   "nbconvert_exporter": "python",
   "pygments_lexer": "ipython3",
   "version": "3.8.5"
  }
 },
 "nbformat": 4,
 "nbformat_minor": 4
}
