{
 "cells": [
  {
   "cell_type": "markdown",
   "metadata": {},
   "source": [
    "# Задание 1"
   ]
  },
  {
   "cell_type": "markdown",
   "metadata": {},
   "source": [
    "Напишите функцию, которая возвращает название валюты (поле ‘Name’) с максимальным значением курса с помощью сервиса https://www.cbr-xml-daily.ru/daily_json.js"
   ]
  },
  {
   "cell_type": "code",
   "execution_count": 7,
   "metadata": {},
   "outputs": [
    {
     "data": {
      "text/plain": [
       "'СДР (специальные права заимствования)'"
      ]
     },
     "execution_count": 7,
     "metadata": {},
     "output_type": "execute_result"
    }
   ],
   "source": [
    "import requests\n",
    "\n",
    "def valute_max():\n",
    "    full_data = requests.get('https://www.cbr-xml-daily.ru/daily_json.js').json()\n",
    "    result = 0\n",
    "    for valute_info in full_data['Valute'].values():\n",
    "        if valute_info['Value'] > result:\n",
    "            result = valute_info['Value']\n",
    "            result_name = valute_info['Name']\n",
    "    return result_name\n",
    "\n",
    "valute_max()"
   ]
  },
  {
   "cell_type": "markdown",
   "metadata": {},
   "source": [
    "# Задание 2"
   ]
  },
  {
   "cell_type": "markdown",
   "metadata": {},
   "source": [
    "Добавьте в класс Rate параметр diff (со значениями True или False), который в случае значения True в методах курсов валют (eur, usd итд) будет возвращать не курс валюты, а изменение по сравнению в прошлым значением. Считайте, self.diff будет принимать значение True только при возврате значения курса. При отображении всей информации о валюте он не используется."
   ]
  },
  {
   "cell_type": "code",
   "execution_count": 27,
   "metadata": {},
   "outputs": [
    {
     "data": {
      "text/plain": [
       "-0.16960000000000264"
      ]
     },
     "execution_count": 27,
     "metadata": {},
     "output_type": "execute_result"
    }
   ],
   "source": [
    "import sys\n",
    "sys.path.append('/Users/viktoria/Documents/Netology/ht_repository/libs')\n",
    "\n",
    "from exchange import Rate\n",
    "\n",
    "class RateDiff(Rate):\n",
    "    def __init__(self, diff=False, form='value'):\n",
    "        self.diff = diff\n",
    "        self.needed = form\n",
    "        super().__init__('full')\n",
    "        \n",
    "    def returner(self, curr):\n",
    "        \"\"\"Возвращает изменение курса валюты по сравнению в прошлым значением, либо значение - в зависимости от diff.\"\"\"\n",
    "        self.format = self.make_format(curr)\n",
    "        if self.diff and self.needed == 'value':\n",
    "            return self.format['Value'] - self.format['Previous']\n",
    "        return self.format['Value']\n",
    "        \n",
    "    def eur(self):\n",
    "        return self.returner('EUR')\n",
    "    \n",
    "    def usd(self):\n",
    "        return self.returner('USD')\n",
    "    \n",
    "    def brl(self):\n",
    "        return self.returner('BRL')\n",
    "\n",
    "rd = RateDiff(True)\n",
    "rd.eur()"
   ]
  },
  {
   "cell_type": "markdown",
   "metadata": {},
   "source": [
    "# Задание 3"
   ]
  },
  {
   "cell_type": "markdown",
   "metadata": {},
   "source": [
    "Напишите класс Designer, который учитывает количество международных премий для дизайнеров (из презентации: “Повышение на 1 грейд за каждые 7 баллов. Получение международной премии – это +2 балла”). Считайте, что при выходе на работу сотрудник уже имеет две премии и их количество не меняется со стажем."
   ]
  },
  {
   "cell_type": "code",
   "execution_count": 31,
   "metadata": {},
   "outputs": [],
   "source": [
    "class Employee:\n",
    "    def __init__(self, name, seniority):\n",
    "        self.name = name\n",
    "        self.seniority = seniority\n",
    "        \n",
    "        self.grade = 1\n",
    "    \n",
    "    def grade_up(self):\n",
    "        \"\"\"Повышает уровень сотрудника\"\"\"\n",
    "        self.grade += 1\n",
    "    \n",
    "    def publish_grade(self):\n",
    "        \"\"\"Публикация результатов аккредитации сотрудников\"\"\"\n",
    "        print(self.name, self.grade)\n",
    "    \n",
    "    def check_if_it_is_time_for_upgrade(self):\n",
    "        pass\n",
    "\n",
    "class Designer(Employee):\n",
    "    def __init__(self, name, seniority=0, awards=2):\n",
    "        self.awards = awards\n",
    "        super().__init__(name, seniority)\n",
    "        \n",
    "    def full_seniority(self):\n",
    "        return (self.seniority + (self.awards * 2))\n",
    "    \n",
    "    def check_if_it_is_time_for_upgrade(self):\n",
    "        self.seniority += 1\n",
    "        if self.full_seniority() % 7 == 0:\n",
    "            self.grade_up()\n",
    "        return self.publish_grade()\n",
    "    \n",
    "    def check_international_awards(self, awards):\n",
    "        if self.full_seniority() / 7 != (self.full_seniority() + (awards * 2)) / 7:\n",
    "            self.grade_up()\n",
    "        self.awards += awards\n",
    "        return self.publish_grade()"
   ]
  }
 ],
 "metadata": {
  "kernelspec": {
   "display_name": "Python 3",
   "language": "python",
   "name": "python3"
  },
  "language_info": {
   "codemirror_mode": {
    "name": "ipython",
    "version": 3
   },
   "file_extension": ".py",
   "mimetype": "text/x-python",
   "name": "python",
   "nbconvert_exporter": "python",
   "pygments_lexer": "ipython3",
   "version": "3.8.5"
  }
 },
 "nbformat": 4,
 "nbformat_minor": 4
}
