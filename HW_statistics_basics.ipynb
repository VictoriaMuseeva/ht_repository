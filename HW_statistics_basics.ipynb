{
 "cells": [
  {
   "cell_type": "markdown",
   "metadata": {},
   "source": [
    "# Задание 1. Базовое изучение"
   ]
  },
  {
   "cell_type": "markdown",
   "metadata": {},
   "source": [
    "Изучить представленный набор данных на основе описания его столбцов и выбрать 8 столбцов для дальнейшего изучения (среди них должны быть как числовые, так и категориальные). Провести расчет базовых метрик для них, кратко описать результаты."
   ]
  },
  {
   "cell_type": "code",
   "execution_count": 1,
   "metadata": {},
   "outputs": [],
   "source": [
    "import pandas as pd"
   ]
  },
  {
   "cell_type": "code",
   "execution_count": 2,
   "metadata": {},
   "outputs": [],
   "source": [
    "df = pd.read_csv('/Users/viktoria/Documents/Netology/theory/10_Statistics_basics/for_HW/horse_data.csv', na_values = '?', header=None)"
   ]
  },
  {
   "cell_type": "code",
   "execution_count": 3,
   "metadata": {},
   "outputs": [
    {
     "name": "stdout",
     "output_type": "stream",
     "text": [
      "<class 'pandas.core.frame.DataFrame'>\n",
      "RangeIndex: 300 entries, 0 to 299\n",
      "Data columns (total 8 columns):\n",
      " #   Column                Non-Null Count  Dtype  \n",
      "---  ------                --------------  -----  \n",
      " 0   surgery               299 non-null    float64\n",
      " 1   age                   300 non-null    int64  \n",
      " 2   rectal temperature    240 non-null    float64\n",
      " 3   pulse                 276 non-null    float64\n",
      " 4   peristalsis           256 non-null    float64\n",
      " 5   abdominal distension  244 non-null    float64\n",
      " 6   total protein         267 non-null    float64\n",
      " 7   outcome               299 non-null    float64\n",
      "dtypes: float64(7), int64(1)\n",
      "memory usage: 18.9 KB\n"
     ]
    }
   ],
   "source": [
    "df_horse = df.iloc[:, [0,1,3,4,11,12,19,22]]\n",
    "df_horse.columns = ['surgery','age','rectal temperature','pulse','peristalsis','abdominal distension','total protein','outcome']\n",
    "df_horse.info()"
   ]
  },
  {
   "cell_type": "code",
   "execution_count": 5,
   "metadata": {},
   "outputs": [
    {
     "data": {
      "text/plain": [
       "surgery  age\n",
       "1.0      1      162\n",
       "2.0      1      113\n",
       "1.0      9       18\n",
       "2.0      9        6\n",
       "dtype: int64"
      ]
     },
     "execution_count": 5,
     "metadata": {},
     "output_type": "execute_result"
    }
   ],
   "source": [
    "df_horse[['surgery','age']].value_counts()\n",
    "#представленный набор данных содержит информацию о 275 взрослых лошадях, большая часть из которых (162) была прооперирована; возраст 24 особей не определен."
   ]
  },
  {
   "cell_type": "code",
   "execution_count": 6,
   "metadata": {},
   "outputs": [
    {
     "data": {
      "text/plain": [
       "count    240.000000\n",
       "mean      38.167917\n",
       "std        0.732289\n",
       "min       35.400000\n",
       "25%       37.800000\n",
       "50%       38.200000\n",
       "75%       38.500000\n",
       "max       40.800000\n",
       "Name: rectal temperature, dtype: float64"
      ]
     },
     "execution_count": 6,
     "metadata": {},
     "output_type": "execute_result"
    }
   ],
   "source": [
    "df_horse['rectal temperature'].describe()\n",
    "#данные по ректальной температуре есть для 240 лошадей из 300; минимальное и максимальное значения температур - релевантны, т.е. выбросы отсутствуют"
   ]
  },
  {
   "cell_type": "code",
   "execution_count": 7,
   "metadata": {},
   "outputs": [
    {
     "data": {
      "text/plain": [
       "count    276.000000\n",
       "mean      71.913043\n",
       "std       28.630557\n",
       "min       30.000000\n",
       "25%       48.000000\n",
       "50%       64.000000\n",
       "75%       88.000000\n",
       "max      184.000000\n",
       "Name: pulse, dtype: float64"
      ]
     },
     "execution_count": 7,
     "metadata": {},
     "output_type": "execute_result"
    }
   ],
   "source": [
    "df_horse['pulse'].describe()\n",
    "#данные по пульсу есть для 276 лошадей из 300\n",
    "#нормальное значение пульса - 30-40 ударов в минуту; в научных статьях сообщается: \"частота сердечных сокращений более 60 ударов в минуту указывает на тяжелое состояние и должна рассматриваться как чрезвычайная ситуация\", НО медианное значение в 64.0 свидетельствует о том, что значения больше 60 не выбросы"
   ]
  },
  {
   "cell_type": "code",
   "execution_count": 8,
   "metadata": {},
   "outputs": [
    {
     "data": {
      "text/plain": [
       "count    267.000000\n",
       "mean      24.456929\n",
       "std       27.475009\n",
       "min        3.300000\n",
       "25%        6.500000\n",
       "50%        7.500000\n",
       "75%       57.000000\n",
       "max       89.000000\n",
       "Name: total protein, dtype: float64"
      ]
     },
     "execution_count": 8,
     "metadata": {},
     "output_type": "execute_result"
    }
   ],
   "source": [
    "df_horse['total protein'].describe()\n",
    "#данные по содержанию белка есть для 267 лошадей из 300; нормальные значения лежат в диапазоне 6-7.5 (gms/dL), следовательно, допущены ошибки при вводе некоторых данных"
   ]
  },
  {
   "cell_type": "code",
   "execution_count": null,
   "metadata": {},
   "outputs": [],
   "source": [
    "#для столбцов 'peristalsis', 'abdominal distension', 'outcome' данные отсутствуют для 44, 56 и 1 лошадей соответственно"
   ]
  },
  {
   "cell_type": "markdown",
   "metadata": {},
   "source": [
    "# Задание 2. Работа с выбросами"
   ]
  },
  {
   "cell_type": "markdown",
   "metadata": {},
   "source": [
    "В выбранных числовых столбцах найти выбросы, выдвинуть гипотезы об их причинах и проинтерпретировать результаты. Принять и обосновать решение о дальнейшей работе с ними."
   ]
  },
  {
   "cell_type": "code",
   "execution_count": 71,
   "metadata": {},
   "outputs": [],
   "source": [
    "#выбросы в сформированном наборе данных содержатся в стобце 'total protein', гипотезу подтверждает значение std - 27.47"
   ]
  },
  {
   "cell_type": "code",
   "execution_count": 9,
   "metadata": {},
   "outputs": [],
   "source": [
    "#данные столбца 'total protein' позволяют выдвинуть гипотезу о пропуске десятичного разделителя в значениях, представленных двузначными числами\n",
    "#принято решение скорректировать данные, разделив двузначные числа\n",
    "df_horse_final = df_horse.copy()\n",
    "\n",
    "def return_comma(protein):\n",
    "    if protein >= 9.9:\n",
    "        protein = protein / 10\n",
    "    return protein\n",
    "\n",
    "df_horse_final['total protein'] = df_horse_final['total protein'].apply(return_comma)"
   ]
  },
  {
   "cell_type": "code",
   "execution_count": 10,
   "metadata": {},
   "outputs": [],
   "source": [
    "#стоит отметить, что значение \"9\" в столбце \"age\" не соответствует описанию набора данных\n",
    "df_horse.sort_values(by=['age'], ascending=False).head(30)\n",
    "#при распределении по зачению 9 в столбце \"age\" видим, что значения пульса у данных особей - около или более 100 ударов в минуту, а высокий пульс характерен для молодых особей\n",
    "#можно предположить, что вместо 9 должно быть 2 = Young (< 6 months)\n",
    "#принято решение скорректировать данные, заменив 9 на 2\n",
    "def change_value(age):\n",
    "    if age == 9:\n",
    "        age = 2\n",
    "    return age\n",
    "\n",
    "df_horse_final['age'] = df_horse_final['age'].apply(change_value)"
   ]
  },
  {
   "cell_type": "markdown",
   "metadata": {},
   "source": [
    "# Задание 3. Работа с пропусками"
   ]
  },
  {
   "cell_type": "markdown",
   "metadata": {},
   "source": [
    "Рассчитать количество пропусков для всех выбранных столбцов. Принять и обосновать решение о методе работы с пропусками по каждому столбцу, сформировать датафрейм, в котором пропуски будут отсутствовать."
   ]
  },
  {
   "cell_type": "code",
   "execution_count": 11,
   "metadata": {},
   "outputs": [
    {
     "data": {
      "text/plain": [
       "surgery                  0.33\n",
       "age                      0.00\n",
       "rectal temperature      20.00\n",
       "pulse                    8.00\n",
       "peristalsis             14.67\n",
       "abdominal distension    18.67\n",
       "total protein           11.00\n",
       "outcome                  0.33\n",
       "dtype: float64"
      ]
     },
     "execution_count": 11,
     "metadata": {},
     "output_type": "execute_result"
    }
   ],
   "source": [
    "(df_horse.isna().mean() * 100).round(2)"
   ]
  },
  {
   "cell_type": "code",
   "execution_count": 12,
   "metadata": {},
   "outputs": [],
   "source": [
    "#принято решение пропуски в столбцах \"surgery\" и \"outcome\" заполнить модой, т.к. в каждом столбце отсутствует всего 1 значение, и корреляцию с другими показателями провести не удалось\n",
    "\n",
    "df_horse_final['surgery'].fillna(df_horse_final['surgery'].mode()[0], inplace=True)\n",
    "df_horse_final['outcome'].fillna(df_horse_final['outcome'].mode()[0], inplace=True)"
   ]
  },
  {
   "cell_type": "code",
   "execution_count": 13,
   "metadata": {},
   "outputs": [],
   "source": [
    "df_horse_final[['outcome','peristalsis']].value_counts()\n",
    "\n",
    "#было выявлено различное значение моды для столбца 'peristalsis' при группировке по столбцу 'outcome'\n",
    "#принято решение пропуски в столбце 'peristalsis' заполнить модой, ориентируясь на значения столбца 'outcome'\n",
    "\n",
    "df_horse_final['peristalsis'].fillna(df_horse_final.groupby(['outcome'])['peristalsis'].transform(lambda x: x.value_counts().idxmax()), inplace=True)"
   ]
  },
  {
   "cell_type": "code",
   "execution_count": 14,
   "metadata": {},
   "outputs": [
    {
     "name": "stderr",
     "output_type": "stream",
     "text": [
      "<ipython-input-14-e22a2700898c>:1: FutureWarning: Indexing with multiple keys (implicitly converted to a tuple of keys) will be deprecated, use a list instead.\n",
      "  df_horse_final.groupby(['peristalsis'])['rectal temperature','pulse','total protein'].median()\n"
     ]
    }
   ],
   "source": [
    "df_horse_final.groupby(['peristalsis'])['rectal temperature','pulse','total protein'].median()\n",
    "\n",
    "#было выявлено различные значения медианы для столбцов 'rectal temperature', 'pulse' и 'total protein' при сортировке по столбцу 'peristalsis'\n",
    "#принято решение пропуски в столбцах 'rectal temperature', 'pulse' и 'total protein' заполнить медианами, ориентируясь на значения столбца 'peristalsis'\n",
    "\n",
    "df_horse_final['rectal temperature'].fillna(df_horse_final.groupby(['peristalsis'])['rectal temperature'].transform('median'), inplace=True)\n",
    "df_horse_final['pulse'].fillna(df_horse_final.groupby(['peristalsis'])['pulse'].transform('median'), inplace=True)\n",
    "df_horse_final['total protein'].fillna(df_horse_final.groupby(['peristalsis'])['total protein'].transform('median'), inplace=True)"
   ]
  },
  {
   "cell_type": "code",
   "execution_count": 24,
   "metadata": {},
   "outputs": [],
   "source": [
    "df_horse_final[['peristalsis','outcome','abdominal distension']].value_counts()\n",
    "\n",
    "#принято решение пропуски в столбце 'abdominal distension' заполнить модой, ориентируясь на значения столбцов 'peristalsis' и 'outcome', содержащих больше категориальных значений\n",
    "\n",
    "df_horse_final['abdominal distension'].fillna(df_horse_final.groupby(['peristalsis','outcome'])['abdominal distension'].transform(lambda x: x.value_counts().idxmax()), inplace=True)"
   ]
  },
  {
   "cell_type": "code",
   "execution_count": 25,
   "metadata": {},
   "outputs": [
    {
     "data": {
      "text/plain": [
       "surgery                 0.0\n",
       "age                     0.0\n",
       "rectal temperature      0.0\n",
       "pulse                   0.0\n",
       "peristalsis             0.0\n",
       "abdominal distension    0.0\n",
       "total protein           0.0\n",
       "outcome                 0.0\n",
       "dtype: float64"
      ]
     },
     "execution_count": 25,
     "metadata": {},
     "output_type": "execute_result"
    }
   ],
   "source": [
    "(df_horse_final.isna().mean() * 100).round(2)"
   ]
  },
  {
   "cell_type": "code",
   "execution_count": 30,
   "metadata": {},
   "outputs": [
    {
     "data": {
      "text/html": [
       "<div>\n",
       "<style scoped>\n",
       "    .dataframe tbody tr th:only-of-type {\n",
       "        vertical-align: middle;\n",
       "    }\n",
       "\n",
       "    .dataframe tbody tr th {\n",
       "        vertical-align: top;\n",
       "    }\n",
       "\n",
       "    .dataframe thead th {\n",
       "        text-align: right;\n",
       "    }\n",
       "</style>\n",
       "<table border=\"1\" class=\"dataframe\">\n",
       "  <thead>\n",
       "    <tr style=\"text-align: right;\">\n",
       "      <th></th>\n",
       "      <th>surgery</th>\n",
       "      <th>age</th>\n",
       "      <th>rectal temperature</th>\n",
       "      <th>pulse</th>\n",
       "      <th>peristalsis</th>\n",
       "      <th>abdominal distension</th>\n",
       "      <th>total protein</th>\n",
       "      <th>outcome</th>\n",
       "    </tr>\n",
       "  </thead>\n",
       "  <tbody>\n",
       "    <tr>\n",
       "      <th>0</th>\n",
       "      <td>2.0</td>\n",
       "      <td>1</td>\n",
       "      <td>38.5</td>\n",
       "      <td>66.0</td>\n",
       "      <td>4.0</td>\n",
       "      <td>4.0</td>\n",
       "      <td>8.4</td>\n",
       "      <td>2.0</td>\n",
       "    </tr>\n",
       "    <tr>\n",
       "      <th>1</th>\n",
       "      <td>1.0</td>\n",
       "      <td>1</td>\n",
       "      <td>39.2</td>\n",
       "      <td>88.0</td>\n",
       "      <td>4.0</td>\n",
       "      <td>2.0</td>\n",
       "      <td>8.5</td>\n",
       "      <td>3.0</td>\n",
       "    </tr>\n",
       "    <tr>\n",
       "      <th>2</th>\n",
       "      <td>2.0</td>\n",
       "      <td>1</td>\n",
       "      <td>38.3</td>\n",
       "      <td>40.0</td>\n",
       "      <td>3.0</td>\n",
       "      <td>1.0</td>\n",
       "      <td>6.7</td>\n",
       "      <td>1.0</td>\n",
       "    </tr>\n",
       "    <tr>\n",
       "      <th>3</th>\n",
       "      <td>1.0</td>\n",
       "      <td>2</td>\n",
       "      <td>39.1</td>\n",
       "      <td>164.0</td>\n",
       "      <td>4.0</td>\n",
       "      <td>4.0</td>\n",
       "      <td>7.2</td>\n",
       "      <td>2.0</td>\n",
       "    </tr>\n",
       "    <tr>\n",
       "      <th>4</th>\n",
       "      <td>2.0</td>\n",
       "      <td>1</td>\n",
       "      <td>37.3</td>\n",
       "      <td>104.0</td>\n",
       "      <td>3.0</td>\n",
       "      <td>3.0</td>\n",
       "      <td>7.4</td>\n",
       "      <td>2.0</td>\n",
       "    </tr>\n",
       "  </tbody>\n",
       "</table>\n",
       "</div>"
      ],
      "text/plain": [
       "   surgery  age  rectal temperature  pulse  peristalsis  abdominal distension  \\\n",
       "0      2.0    1                38.5   66.0          4.0                   4.0   \n",
       "1      1.0    1                39.2   88.0          4.0                   2.0   \n",
       "2      2.0    1                38.3   40.0          3.0                   1.0   \n",
       "3      1.0    2                39.1  164.0          4.0                   4.0   \n",
       "4      2.0    1                37.3  104.0          3.0                   3.0   \n",
       "\n",
       "   total protein  outcome  \n",
       "0            8.4      2.0  \n",
       "1            8.5      3.0  \n",
       "2            6.7      1.0  \n",
       "3            7.2      2.0  \n",
       "4            7.4      2.0  "
      ]
     },
     "execution_count": 30,
     "metadata": {},
     "output_type": "execute_result"
    }
   ],
   "source": [
    "df_horse_final.head() #датафрейм, в котором отсутствуют пропуски"
   ]
  }
 ],
 "metadata": {
  "kernelspec": {
   "display_name": "Python 3",
   "language": "python",
   "name": "python3"
  },
  "language_info": {
   "codemirror_mode": {
    "name": "ipython",
    "version": 3
   },
   "file_extension": ".py",
   "mimetype": "text/x-python",
   "name": "python",
   "nbconvert_exporter": "python",
   "pygments_lexer": "ipython3",
   "version": "3.8.5"
  }
 },
 "nbformat": 4,
 "nbformat_minor": 4
}
