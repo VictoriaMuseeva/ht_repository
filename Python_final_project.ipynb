{
 "cells": [
  {
   "cell_type": "markdown",
   "metadata": {},
   "source": [
    "# Дипломная работа по Python"
   ]
  },
  {
   "cell_type": "markdown",
   "metadata": {},
   "source": [
    "### 1. Загрузить файл HR.csv в pandas dataframe"
   ]
  },
  {
   "cell_type": "code",
   "execution_count": 1,
   "metadata": {},
   "outputs": [],
   "source": [
    "import pandas as pd"
   ]
  },
  {
   "cell_type": "code",
   "execution_count": 2,
   "metadata": {},
   "outputs": [
    {
     "name": "stdout",
     "output_type": "stream",
     "text": [
      "<class 'pandas.core.frame.DataFrame'>\n",
      "RangeIndex: 14999 entries, 0 to 14998\n",
      "Data columns (total 10 columns):\n",
      " #   Column                 Non-Null Count  Dtype  \n",
      "---  ------                 --------------  -----  \n",
      " 0   satisfaction_level     14999 non-null  float64\n",
      " 1   last_evaluation        14999 non-null  float64\n",
      " 2   number_project         14999 non-null  int64  \n",
      " 3   average_montly_hours   14999 non-null  int64  \n",
      " 4   time_spend_company     14999 non-null  int64  \n",
      " 5   Work_accident          14999 non-null  int64  \n",
      " 6   left                   14999 non-null  int64  \n",
      " 7   promotion_last_5years  14999 non-null  int64  \n",
      " 8   department             14999 non-null  object \n",
      " 9   salary                 14999 non-null  object \n",
      "dtypes: float64(2), int64(6), object(2)\n",
      "memory usage: 1.1+ MB\n"
     ]
    }
   ],
   "source": [
    "data_hr = pd.read_csv('HR.csv')\n",
    "data_hr.info() # видим, что нет пропусков"
   ]
  },
  {
   "cell_type": "markdown",
   "metadata": {},
   "source": [
    "### 2. Рассчитать основные статистики для переменных (среднее, медиана, мода, мин/макс, сред.отклонение)."
   ]
  },
  {
   "cell_type": "code",
   "execution_count": 3,
   "metadata": {},
   "outputs": [
    {
     "data": {
      "text/html": [
       "<div>\n",
       "<style scoped>\n",
       "    .dataframe tbody tr th:only-of-type {\n",
       "        vertical-align: middle;\n",
       "    }\n",
       "\n",
       "    .dataframe tbody tr th {\n",
       "        vertical-align: top;\n",
       "    }\n",
       "\n",
       "    .dataframe thead th {\n",
       "        text-align: right;\n",
       "    }\n",
       "</style>\n",
       "<table border=\"1\" class=\"dataframe\">\n",
       "  <thead>\n",
       "    <tr style=\"text-align: right;\">\n",
       "      <th></th>\n",
       "      <th>satisfaction_level</th>\n",
       "      <th>last_evaluation</th>\n",
       "      <th>number_project</th>\n",
       "      <th>average_montly_hours</th>\n",
       "      <th>time_spend_company</th>\n",
       "      <th>Work_accident</th>\n",
       "      <th>left</th>\n",
       "      <th>promotion_last_5years</th>\n",
       "    </tr>\n",
       "  </thead>\n",
       "  <tbody>\n",
       "    <tr>\n",
       "      <th>count</th>\n",
       "      <td>14999.000000</td>\n",
       "      <td>14999.000000</td>\n",
       "      <td>14999.000000</td>\n",
       "      <td>14999.000000</td>\n",
       "      <td>14999.000000</td>\n",
       "      <td>14999.000000</td>\n",
       "      <td>14999.000000</td>\n",
       "      <td>14999.000000</td>\n",
       "    </tr>\n",
       "    <tr>\n",
       "      <th>mean</th>\n",
       "      <td>0.612834</td>\n",
       "      <td>0.716102</td>\n",
       "      <td>3.803054</td>\n",
       "      <td>201.050337</td>\n",
       "      <td>3.498233</td>\n",
       "      <td>0.144610</td>\n",
       "      <td>0.238083</td>\n",
       "      <td>0.021268</td>\n",
       "    </tr>\n",
       "    <tr>\n",
       "      <th>std</th>\n",
       "      <td>0.248631</td>\n",
       "      <td>0.171169</td>\n",
       "      <td>1.232592</td>\n",
       "      <td>49.943099</td>\n",
       "      <td>1.460136</td>\n",
       "      <td>0.351719</td>\n",
       "      <td>0.425924</td>\n",
       "      <td>0.144281</td>\n",
       "    </tr>\n",
       "    <tr>\n",
       "      <th>min</th>\n",
       "      <td>0.090000</td>\n",
       "      <td>0.360000</td>\n",
       "      <td>2.000000</td>\n",
       "      <td>96.000000</td>\n",
       "      <td>2.000000</td>\n",
       "      <td>0.000000</td>\n",
       "      <td>0.000000</td>\n",
       "      <td>0.000000</td>\n",
       "    </tr>\n",
       "    <tr>\n",
       "      <th>25%</th>\n",
       "      <td>0.440000</td>\n",
       "      <td>0.560000</td>\n",
       "      <td>3.000000</td>\n",
       "      <td>156.000000</td>\n",
       "      <td>3.000000</td>\n",
       "      <td>0.000000</td>\n",
       "      <td>0.000000</td>\n",
       "      <td>0.000000</td>\n",
       "    </tr>\n",
       "    <tr>\n",
       "      <th>50%</th>\n",
       "      <td>0.640000</td>\n",
       "      <td>0.720000</td>\n",
       "      <td>4.000000</td>\n",
       "      <td>200.000000</td>\n",
       "      <td>3.000000</td>\n",
       "      <td>0.000000</td>\n",
       "      <td>0.000000</td>\n",
       "      <td>0.000000</td>\n",
       "    </tr>\n",
       "    <tr>\n",
       "      <th>75%</th>\n",
       "      <td>0.820000</td>\n",
       "      <td>0.870000</td>\n",
       "      <td>5.000000</td>\n",
       "      <td>245.000000</td>\n",
       "      <td>4.000000</td>\n",
       "      <td>0.000000</td>\n",
       "      <td>0.000000</td>\n",
       "      <td>0.000000</td>\n",
       "    </tr>\n",
       "    <tr>\n",
       "      <th>max</th>\n",
       "      <td>1.000000</td>\n",
       "      <td>1.000000</td>\n",
       "      <td>7.000000</td>\n",
       "      <td>310.000000</td>\n",
       "      <td>10.000000</td>\n",
       "      <td>1.000000</td>\n",
       "      <td>1.000000</td>\n",
       "      <td>1.000000</td>\n",
       "    </tr>\n",
       "  </tbody>\n",
       "</table>\n",
       "</div>"
      ],
      "text/plain": [
       "       satisfaction_level  last_evaluation  number_project  \\\n",
       "count        14999.000000     14999.000000    14999.000000   \n",
       "mean             0.612834         0.716102        3.803054   \n",
       "std              0.248631         0.171169        1.232592   \n",
       "min              0.090000         0.360000        2.000000   \n",
       "25%              0.440000         0.560000        3.000000   \n",
       "50%              0.640000         0.720000        4.000000   \n",
       "75%              0.820000         0.870000        5.000000   \n",
       "max              1.000000         1.000000        7.000000   \n",
       "\n",
       "       average_montly_hours  time_spend_company  Work_accident          left  \\\n",
       "count          14999.000000        14999.000000   14999.000000  14999.000000   \n",
       "mean             201.050337            3.498233       0.144610      0.238083   \n",
       "std               49.943099            1.460136       0.351719      0.425924   \n",
       "min               96.000000            2.000000       0.000000      0.000000   \n",
       "25%              156.000000            3.000000       0.000000      0.000000   \n",
       "50%              200.000000            3.000000       0.000000      0.000000   \n",
       "75%              245.000000            4.000000       0.000000      0.000000   \n",
       "max              310.000000           10.000000       1.000000      1.000000   \n",
       "\n",
       "       promotion_last_5years  \n",
       "count           14999.000000  \n",
       "mean                0.021268  \n",
       "std                 0.144281  \n",
       "min                 0.000000  \n",
       "25%                 0.000000  \n",
       "50%                 0.000000  \n",
       "75%                 0.000000  \n",
       "max                 1.000000  "
      ]
     },
     "execution_count": 3,
     "metadata": {},
     "output_type": "execute_result"
    }
   ],
   "source": [
    "# основные статистики (mean, std, min, max, mediana (50%)) для количественных данных позволяет рассчитать метод describe()\n",
    "data_hr.describe()"
   ]
  },
  {
   "cell_type": "code",
   "execution_count": 4,
   "metadata": {},
   "outputs": [
    {
     "name": "stdout",
     "output_type": "stream",
     "text": [
      "Отдел, в котором работает наибольшее количество сотрудников: sales\n",
      "Наиболее часто встречаемый уровень зарплат: low\n"
     ]
    }
   ],
   "source": [
    "# для качественных данных есть смысл рассчитывать только моду\n",
    "print('Отдел, в котором работает наибольшее количество сотрудников:', data_hr.department.mode()[0])\n",
    "print('Наиболее часто встречаемый уровень зарплат:', data_hr.salary.mode()[0])"
   ]
  },
  {
   "cell_type": "markdown",
   "metadata": {},
   "source": [
    "### 3. Рассчитать и визуализировать корреляционную матрицу для количественных переменных. Определить две самые скоррелированные и две наименее скоррелированные переменные."
   ]
  },
  {
   "cell_type": "code",
   "execution_count": 5,
   "metadata": {},
   "outputs": [
    {
     "data": {
      "text/html": [
       "<div>\n",
       "<style scoped>\n",
       "    .dataframe tbody tr th:only-of-type {\n",
       "        vertical-align: middle;\n",
       "    }\n",
       "\n",
       "    .dataframe tbody tr th {\n",
       "        vertical-align: top;\n",
       "    }\n",
       "\n",
       "    .dataframe thead th {\n",
       "        text-align: right;\n",
       "    }\n",
       "</style>\n",
       "<table border=\"1\" class=\"dataframe\">\n",
       "  <thead>\n",
       "    <tr style=\"text-align: right;\">\n",
       "      <th></th>\n",
       "      <th>satisfaction_level</th>\n",
       "      <th>last_evaluation</th>\n",
       "      <th>number_project</th>\n",
       "      <th>average_montly_hours</th>\n",
       "      <th>time_spend_company</th>\n",
       "      <th>Work_accident</th>\n",
       "      <th>left</th>\n",
       "      <th>promotion_last_5years</th>\n",
       "      <th>department</th>\n",
       "      <th>salary</th>\n",
       "    </tr>\n",
       "  </thead>\n",
       "  <tbody>\n",
       "    <tr>\n",
       "      <th>0</th>\n",
       "      <td>0.38</td>\n",
       "      <td>0.53</td>\n",
       "      <td>2</td>\n",
       "      <td>157</td>\n",
       "      <td>3</td>\n",
       "      <td>0</td>\n",
       "      <td>1</td>\n",
       "      <td>0</td>\n",
       "      <td>sales</td>\n",
       "      <td>low</td>\n",
       "    </tr>\n",
       "    <tr>\n",
       "      <th>1</th>\n",
       "      <td>0.80</td>\n",
       "      <td>0.86</td>\n",
       "      <td>5</td>\n",
       "      <td>262</td>\n",
       "      <td>6</td>\n",
       "      <td>0</td>\n",
       "      <td>1</td>\n",
       "      <td>0</td>\n",
       "      <td>sales</td>\n",
       "      <td>medium</td>\n",
       "    </tr>\n",
       "    <tr>\n",
       "      <th>2</th>\n",
       "      <td>0.11</td>\n",
       "      <td>0.88</td>\n",
       "      <td>7</td>\n",
       "      <td>272</td>\n",
       "      <td>4</td>\n",
       "      <td>0</td>\n",
       "      <td>1</td>\n",
       "      <td>0</td>\n",
       "      <td>sales</td>\n",
       "      <td>medium</td>\n",
       "    </tr>\n",
       "    <tr>\n",
       "      <th>3</th>\n",
       "      <td>0.72</td>\n",
       "      <td>0.87</td>\n",
       "      <td>5</td>\n",
       "      <td>223</td>\n",
       "      <td>5</td>\n",
       "      <td>0</td>\n",
       "      <td>1</td>\n",
       "      <td>0</td>\n",
       "      <td>sales</td>\n",
       "      <td>low</td>\n",
       "    </tr>\n",
       "    <tr>\n",
       "      <th>4</th>\n",
       "      <td>0.37</td>\n",
       "      <td>0.52</td>\n",
       "      <td>2</td>\n",
       "      <td>159</td>\n",
       "      <td>3</td>\n",
       "      <td>0</td>\n",
       "      <td>1</td>\n",
       "      <td>0</td>\n",
       "      <td>sales</td>\n",
       "      <td>low</td>\n",
       "    </tr>\n",
       "  </tbody>\n",
       "</table>\n",
       "</div>"
      ],
      "text/plain": [
       "   satisfaction_level  last_evaluation  number_project  average_montly_hours  \\\n",
       "0                0.38             0.53               2                   157   \n",
       "1                0.80             0.86               5                   262   \n",
       "2                0.11             0.88               7                   272   \n",
       "3                0.72             0.87               5                   223   \n",
       "4                0.37             0.52               2                   159   \n",
       "\n",
       "   time_spend_company  Work_accident  left  promotion_last_5years department  \\\n",
       "0                   3              0     1                      0      sales   \n",
       "1                   6              0     1                      0      sales   \n",
       "2                   4              0     1                      0      sales   \n",
       "3                   5              0     1                      0      sales   \n",
       "4                   3              0     1                      0      sales   \n",
       "\n",
       "   salary  \n",
       "0     low  \n",
       "1  medium  \n",
       "2  medium  \n",
       "3     low  \n",
       "4     low  "
      ]
     },
     "execution_count": 5,
     "metadata": {},
     "output_type": "execute_result"
    }
   ],
   "source": [
    "data_hr.head()"
   ]
  },
  {
   "cell_type": "code",
   "execution_count": 6,
   "metadata": {},
   "outputs": [],
   "source": [
    "df = data_hr.iloc[:, 0:8]  # оставляем только количественные переменные"
   ]
  },
  {
   "cell_type": "markdown",
   "metadata": {},
   "source": [
    "Вариант 1."
   ]
  },
  {
   "cell_type": "code",
   "execution_count": 7,
   "metadata": {},
   "outputs": [
    {
     "data": {
      "text/plain": [
       "Text(0.5, 1.0, 'Correlation Matrix')"
      ]
     },
     "execution_count": 7,
     "metadata": {},
     "output_type": "execute_result"
    },
    {
     "data": {
      "image/png": "[encoded data removed]",
      "text/plain": [
       "<Figure size 1368x1080 with 2 Axes>"
      ]
     },
     "metadata": {
      "needs_background": "light"
     },
     "output_type": "display_data"
    }
   ],
   "source": [
    "import matplotlib.pyplot as plt\n",
    "\n",
    "f = plt.figure(figsize=(19, 15))\n",
    "plt.matshow(df.corr(), fignum=f.number, cmap='RdBu')\n",
    "plt.xticks(range(df.shape[1]), df.columns, fontsize=14, rotation=45)\n",
    "plt.yticks(range(df.shape[1]), df.columns, fontsize=14)\n",
    "cb = plt.colorbar()\n",
    "cb.ax.tick_params(labelsize=14)\n",
    "plt.title('Correlation Matrix', fontsize=16)"
   ]
  },
  {
   "cell_type": "markdown",
   "metadata": {},
   "source": [
    "Вариант 2."
   ]
  },
  {
   "cell_type": "code",
   "execution_count": 8,
   "metadata": {},
   "outputs": [
    {
     "data": {
      "text/html": [
       "<style  type=\"text/css\" >\n",
       "#T_1b3a3_row0_col0,#T_1b3a3_row1_col1,#T_1b3a3_row2_col2,#T_1b3a3_row3_col3,#T_1b3a3_row4_col4,#T_1b3a3_row5_col5,#T_1b3a3_row6_col6,#T_1b3a3_row7_col7{\n",
       "            background-color:  #b40426;\n",
       "            color:  #f1f1f1;\n",
       "        }#T_1b3a3_row0_col1{\n",
       "            background-color:  #5d7ce6;\n",
       "            color:  #000000;\n",
       "        }#T_1b3a3_row0_col2,#T_1b3a3_row0_col3,#T_1b3a3_row0_col4,#T_1b3a3_row0_col6,#T_1b3a3_row5_col1,#T_1b3a3_row6_col0,#T_1b3a3_row6_col5,#T_1b3a3_row6_col7,#T_1b3a3_row7_col1{\n",
       "            background-color:  #3b4cc0;\n",
       "            color:  #f1f1f1;\n",
       "        }#T_1b3a3_row0_col5{\n",
       "            background-color:  #7699f6;\n",
       "            color:  #000000;\n",
       "        }#T_1b3a3_row0_col7{\n",
       "            background-color:  #5470de;\n",
       "            color:  #000000;\n",
       "        }#T_1b3a3_row1_col0,#T_1b3a3_row1_col3,#T_1b3a3_row2_col1{\n",
       "            background-color:  #b1cbfc;\n",
       "            color:  #000000;\n",
       "        }#T_1b3a3_row1_col2{\n",
       "            background-color:  #cad8ef;\n",
       "            color:  #000000;\n",
       "        }#T_1b3a3_row1_col4{\n",
       "            background-color:  #80a3fa;\n",
       "            color:  #000000;\n",
       "        }#T_1b3a3_row1_col5,#T_1b3a3_row3_col5{\n",
       "            background-color:  #6282ea;\n",
       "            color:  #000000;\n",
       "        }#T_1b3a3_row1_col6{\n",
       "            background-color:  #98b9ff;\n",
       "            color:  #000000;\n",
       "        }#T_1b3a3_row1_col7{\n",
       "            background-color:  #4961d2;\n",
       "            color:  #f1f1f1;\n",
       "        }#T_1b3a3_row2_col0{\n",
       "            background-color:  #7396f5;\n",
       "            color:  #000000;\n",
       "        }#T_1b3a3_row2_col3{\n",
       "            background-color:  #c9d7f0;\n",
       "            color:  #000000;\n",
       "        }#T_1b3a3_row2_col4{\n",
       "            background-color:  #94b6ff;\n",
       "            color:  #000000;\n",
       "        }#T_1b3a3_row2_col5{\n",
       "            background-color:  #6384eb;\n",
       "            color:  #000000;\n",
       "        }#T_1b3a3_row2_col6{\n",
       "            background-color:  #9dbdff;\n",
       "            color:  #000000;\n",
       "        }#T_1b3a3_row2_col7{\n",
       "            background-color:  #4a63d3;\n",
       "            color:  #f1f1f1;\n",
       "        }#T_1b3a3_row3_col0{\n",
       "            background-color:  #92b4fe;\n",
       "            color:  #000000;\n",
       "        }#T_1b3a3_row3_col1{\n",
       "            background-color:  #aec9fc;\n",
       "            color:  #000000;\n",
       "        }#T_1b3a3_row3_col2{\n",
       "            background-color:  #dadce0;\n",
       "            color:  #000000;\n",
       "        }#T_1b3a3_row3_col4,#T_1b3a3_row4_col0{\n",
       "            background-color:  #7ea1fa;\n",
       "            color:  #000000;\n",
       "        }#T_1b3a3_row3_col6{\n",
       "            background-color:  #a9c6fd;\n",
       "            color:  #000000;\n",
       "        }#T_1b3a3_row3_col7{\n",
       "            background-color:  #4b64d5;\n",
       "            color:  #f1f1f1;\n",
       "        }#T_1b3a3_row4_col1{\n",
       "            background-color:  #6687ed;\n",
       "            color:  #000000;\n",
       "        }#T_1b3a3_row4_col2,#T_1b3a3_row7_col0{\n",
       "            background-color:  #9ebeff;\n",
       "            color:  #000000;\n",
       "        }#T_1b3a3_row4_col3,#T_1b3a3_row6_col2{\n",
       "            background-color:  #688aef;\n",
       "            color:  #000000;\n",
       "        }#T_1b3a3_row4_col5{\n",
       "            background-color:  #6485ec;\n",
       "            color:  #000000;\n",
       "        }#T_1b3a3_row4_col6{\n",
       "            background-color:  #bbd1f8;\n",
       "            color:  #000000;\n",
       "        }#T_1b3a3_row4_col7{\n",
       "            background-color:  #6180e9;\n",
       "            color:  #000000;\n",
       "        }#T_1b3a3_row5_col0{\n",
       "            background-color:  #a6c4fe;\n",
       "            color:  #000000;\n",
       "        }#T_1b3a3_row5_col2,#T_1b3a3_row7_col2{\n",
       "            background-color:  #5f7fe8;\n",
       "            color:  #000000;\n",
       "        }#T_1b3a3_row5_col3{\n",
       "            background-color:  #3d50c3;\n",
       "            color:  #f1f1f1;\n",
       "        }#T_1b3a3_row5_col4{\n",
       "            background-color:  #5673e0;\n",
       "            color:  #000000;\n",
       "        }#T_1b3a3_row5_col6{\n",
       "            background-color:  #7093f3;\n",
       "            color:  #000000;\n",
       "        }#T_1b3a3_row5_col7{\n",
       "            background-color:  #5875e1;\n",
       "            color:  #000000;\n",
       "        }#T_1b3a3_row6_col1{\n",
       "            background-color:  #3e51c5;\n",
       "            color:  #f1f1f1;\n",
       "        }#T_1b3a3_row6_col3{\n",
       "            background-color:  #5572df;\n",
       "            color:  #000000;\n",
       "        }#T_1b3a3_row6_col4{\n",
       "            background-color:  #84a7fc;\n",
       "            color:  #000000;\n",
       "        }#T_1b3a3_row7_col3{\n",
       "            background-color:  #3f53c6;\n",
       "            color:  #f1f1f1;\n",
       "        }#T_1b3a3_row7_col4{\n",
       "            background-color:  #6b8df0;\n",
       "            color:  #000000;\n",
       "        }#T_1b3a3_row7_col5{\n",
       "            background-color:  #6f92f3;\n",
       "            color:  #000000;\n",
       "        }#T_1b3a3_row7_col6{\n",
       "            background-color:  #88abfd;\n",
       "            color:  #000000;\n",
       "        }</style><table id=\"T_1b3a3_\" ><thead>    <tr>        <th class=\"blank level0\" ></th>        <th class=\"col_heading level0 col0\" >satisfaction_level</th>        <th class=\"col_heading level0 col1\" >last_evaluation</th>        <th class=\"col_heading level0 col2\" >number_project</th>        <th class=\"col_heading level0 col3\" >average_montly_hours</th>        <th class=\"col_heading level0 col4\" >time_spend_company</th>        <th class=\"col_heading level0 col5\" >Work_accident</th>        <th class=\"col_heading level0 col6\" >left</th>        <th class=\"col_heading level0 col7\" >promotion_last_5years</th>    </tr></thead><tbody>\n",
       "                <tr>\n",
       "                        <th id=\"T_1b3a3_level0_row0\" class=\"row_heading level0 row0\" >satisfaction_level</th>\n",
       "                        <td id=\"T_1b3a3_row0_col0\" class=\"data row0 col0\" >1.00</td>\n",
       "                        <td id=\"T_1b3a3_row0_col1\" class=\"data row0 col1\" >0.11</td>\n",
       "                        <td id=\"T_1b3a3_row0_col2\" class=\"data row0 col2\" >-0.14</td>\n",
       "                        <td id=\"T_1b3a3_row0_col3\" class=\"data row0 col3\" >-0.02</td>\n",
       "                        <td id=\"T_1b3a3_row0_col4\" class=\"data row0 col4\" >-0.10</td>\n",
       "                        <td id=\"T_1b3a3_row0_col5\" class=\"data row0 col5\" >0.06</td>\n",
       "                        <td id=\"T_1b3a3_row0_col6\" class=\"data row0 col6\" >-0.39</td>\n",
       "                        <td id=\"T_1b3a3_row0_col7\" class=\"data row0 col7\" >0.03</td>\n",
       "            </tr>\n",
       "            <tr>\n",
       "                        <th id=\"T_1b3a3_level0_row1\" class=\"row_heading level0 row1\" >last_evaluation</th>\n",
       "                        <td id=\"T_1b3a3_row1_col0\" class=\"data row1 col0\" >0.11</td>\n",
       "                        <td id=\"T_1b3a3_row1_col1\" class=\"data row1 col1\" >1.00</td>\n",
       "                        <td id=\"T_1b3a3_row1_col2\" class=\"data row1 col2\" >0.35</td>\n",
       "                        <td id=\"T_1b3a3_row1_col3\" class=\"data row1 col3\" >0.34</td>\n",
       "                        <td id=\"T_1b3a3_row1_col4\" class=\"data row1 col4\" >0.13</td>\n",
       "                        <td id=\"T_1b3a3_row1_col5\" class=\"data row1 col5\" >-0.01</td>\n",
       "                        <td id=\"T_1b3a3_row1_col6\" class=\"data row1 col6\" >0.01</td>\n",
       "                        <td id=\"T_1b3a3_row1_col7\" class=\"data row1 col7\" >-0.01</td>\n",
       "            </tr>\n",
       "            <tr>\n",
       "                        <th id=\"T_1b3a3_level0_row2\" class=\"row_heading level0 row2\" >number_project</th>\n",
       "                        <td id=\"T_1b3a3_row2_col0\" class=\"data row2 col0\" >-0.14</td>\n",
       "                        <td id=\"T_1b3a3_row2_col1\" class=\"data row2 col1\" >0.35</td>\n",
       "                        <td id=\"T_1b3a3_row2_col2\" class=\"data row2 col2\" >1.00</td>\n",
       "                        <td id=\"T_1b3a3_row2_col3\" class=\"data row2 col3\" >0.42</td>\n",
       "                        <td id=\"T_1b3a3_row2_col4\" class=\"data row2 col4\" >0.20</td>\n",
       "                        <td id=\"T_1b3a3_row2_col5\" class=\"data row2 col5\" >-0.00</td>\n",
       "                        <td id=\"T_1b3a3_row2_col6\" class=\"data row2 col6\" >0.02</td>\n",
       "                        <td id=\"T_1b3a3_row2_col7\" class=\"data row2 col7\" >-0.01</td>\n",
       "            </tr>\n",
       "            <tr>\n",
       "                        <th id=\"T_1b3a3_level0_row3\" class=\"row_heading level0 row3\" >average_montly_hours</th>\n",
       "                        <td id=\"T_1b3a3_row3_col0\" class=\"data row3 col0\" >-0.02</td>\n",
       "                        <td id=\"T_1b3a3_row3_col1\" class=\"data row3 col1\" >0.34</td>\n",
       "                        <td id=\"T_1b3a3_row3_col2\" class=\"data row3 col2\" >0.42</td>\n",
       "                        <td id=\"T_1b3a3_row3_col3\" class=\"data row3 col3\" >1.00</td>\n",
       "                        <td id=\"T_1b3a3_row3_col4\" class=\"data row3 col4\" >0.13</td>\n",
       "                        <td id=\"T_1b3a3_row3_col5\" class=\"data row3 col5\" >-0.01</td>\n",
       "                        <td id=\"T_1b3a3_row3_col6\" class=\"data row3 col6\" >0.07</td>\n",
       "                        <td id=\"T_1b3a3_row3_col7\" class=\"data row3 col7\" >-0.00</td>\n",
       "            </tr>\n",
       "            <tr>\n",
       "                        <th id=\"T_1b3a3_level0_row4\" class=\"row_heading level0 row4\" >time_spend_company</th>\n",
       "                        <td id=\"T_1b3a3_row4_col0\" class=\"data row4 col0\" >-0.10</td>\n",
       "                        <td id=\"T_1b3a3_row4_col1\" class=\"data row4 col1\" >0.13</td>\n",
       "                        <td id=\"T_1b3a3_row4_col2\" class=\"data row4 col2\" >0.20</td>\n",
       "                        <td id=\"T_1b3a3_row4_col3\" class=\"data row4 col3\" >0.13</td>\n",
       "                        <td id=\"T_1b3a3_row4_col4\" class=\"data row4 col4\" >1.00</td>\n",
       "                        <td id=\"T_1b3a3_row4_col5\" class=\"data row4 col5\" >0.00</td>\n",
       "                        <td id=\"T_1b3a3_row4_col6\" class=\"data row4 col6\" >0.14</td>\n",
       "                        <td id=\"T_1b3a3_row4_col7\" class=\"data row4 col7\" >0.07</td>\n",
       "            </tr>\n",
       "            <tr>\n",
       "                        <th id=\"T_1b3a3_level0_row5\" class=\"row_heading level0 row5\" >Work_accident</th>\n",
       "                        <td id=\"T_1b3a3_row5_col0\" class=\"data row5 col0\" >0.06</td>\n",
       "                        <td id=\"T_1b3a3_row5_col1\" class=\"data row5 col1\" >-0.01</td>\n",
       "                        <td id=\"T_1b3a3_row5_col2\" class=\"data row5 col2\" >-0.00</td>\n",
       "                        <td id=\"T_1b3a3_row5_col3\" class=\"data row5 col3\" >-0.01</td>\n",
       "                        <td id=\"T_1b3a3_row5_col4\" class=\"data row5 col4\" >0.00</td>\n",
       "                        <td id=\"T_1b3a3_row5_col5\" class=\"data row5 col5\" >1.00</td>\n",
       "                        <td id=\"T_1b3a3_row5_col6\" class=\"data row5 col6\" >-0.15</td>\n",
       "                        <td id=\"T_1b3a3_row5_col7\" class=\"data row5 col7\" >0.04</td>\n",
       "            </tr>\n",
       "            <tr>\n",
       "                        <th id=\"T_1b3a3_level0_row6\" class=\"row_heading level0 row6\" >left</th>\n",
       "                        <td id=\"T_1b3a3_row6_col0\" class=\"data row6 col0\" >-0.39</td>\n",
       "                        <td id=\"T_1b3a3_row6_col1\" class=\"data row6 col1\" >0.01</td>\n",
       "                        <td id=\"T_1b3a3_row6_col2\" class=\"data row6 col2\" >0.02</td>\n",
       "                        <td id=\"T_1b3a3_row6_col3\" class=\"data row6 col3\" >0.07</td>\n",
       "                        <td id=\"T_1b3a3_row6_col4\" class=\"data row6 col4\" >0.14</td>\n",
       "                        <td id=\"T_1b3a3_row6_col5\" class=\"data row6 col5\" >-0.15</td>\n",
       "                        <td id=\"T_1b3a3_row6_col6\" class=\"data row6 col6\" >1.00</td>\n",
       "                        <td id=\"T_1b3a3_row6_col7\" class=\"data row6 col7\" >-0.06</td>\n",
       "            </tr>\n",
       "            <tr>\n",
       "                        <th id=\"T_1b3a3_level0_row7\" class=\"row_heading level0 row7\" >promotion_last_5years</th>\n",
       "                        <td id=\"T_1b3a3_row7_col0\" class=\"data row7 col0\" >0.03</td>\n",
       "                        <td id=\"T_1b3a3_row7_col1\" class=\"data row7 col1\" >-0.01</td>\n",
       "                        <td id=\"T_1b3a3_row7_col2\" class=\"data row7 col2\" >-0.01</td>\n",
       "                        <td id=\"T_1b3a3_row7_col3\" class=\"data row7 col3\" >-0.00</td>\n",
       "                        <td id=\"T_1b3a3_row7_col4\" class=\"data row7 col4\" >0.07</td>\n",
       "                        <td id=\"T_1b3a3_row7_col5\" class=\"data row7 col5\" >0.04</td>\n",
       "                        <td id=\"T_1b3a3_row7_col6\" class=\"data row7 col6\" >-0.06</td>\n",
       "                        <td id=\"T_1b3a3_row7_col7\" class=\"data row7 col7\" >1.00</td>\n",
       "            </tr>\n",
       "    </tbody></table>"
      ],
      "text/plain": [
       "<pandas.io.formats.style.Styler at 0x11d2eadc0>"
      ]
     },
     "execution_count": 8,
     "metadata": {},
     "output_type": "execute_result"
    }
   ],
   "source": [
    "corr = df.corr()\n",
    "corr.style.background_gradient(cmap='coolwarm').set_precision(2)"
   ]
  },
  {
   "cell_type": "markdown",
   "metadata": {},
   "source": [
    "Ответ: \n",
    "- самые скоррелированные переменные - average_monthly_hours (среднее количество часов на рабочем месте в месяц) и number_project (количество проектов, выполненных за время работы)\n",
    "- наименее скоррелированные переменные - work_accident (происходили ли несчастные случаи на рабочем месте с сотрудником) и time_spend_company (стаж работы в компании в годах)"
   ]
  },
  {
   "cell_type": "markdown",
   "metadata": {},
   "source": [
    "### 4. Рассчитать, сколько сотрудников работает в каждом департаменте."
   ]
  },
  {
   "cell_type": "code",
   "execution_count": 9,
   "metadata": {},
   "outputs": [
    {
     "name": "stdout",
     "output_type": "stream",
     "text": [
      "1. В департаменте sales работает 3126 сотруника(ов)\n",
      "2. В департаменте technical работает 2023 сотруника(ов)\n",
      "3. В департаменте support работает 1674 сотруника(ов)\n",
      "4. В департаменте IT работает 954 сотруника(ов)\n",
      "5. В департаменте product_mng работает 704 сотруника(ов)\n",
      "6. В департаменте RandD работает 666 сотруника(ов)\n",
      "7. В департаменте marketing работает 655 сотруника(ов)\n",
      "8. В департаменте accounting работает 563 сотруника(ов)\n",
      "9. В департаменте management работает 539 сотруника(ов)\n",
      "10. В департаменте hr работает 524 сотруника(ов)\n"
     ]
    }
   ],
   "source": [
    "# в расчете работающих сотрудников в каждом департаменте учитывать уволившихся не будем \n",
    "df_vc = data_hr[data_hr.left == 0].department.value_counts().rename_axis('unique_values').to_frame('counts')\n",
    "\n",
    "for i in range(len(df_vc)):\n",
    "    print(f'{i+1}. В департаменте {df_vc.index[i]} работает {df_vc.counts[i]} сотруника(ов)')"
   ]
  },
  {
   "cell_type": "markdown",
   "metadata": {},
   "source": [
    "### 5. Показать распределение сотрудников по зарплатам."
   ]
  },
  {
   "cell_type": "code",
   "execution_count": 10,
   "metadata": {},
   "outputs": [
    {
     "data": {
      "text/plain": [
       "<AxesSubplot:title={'center':'РАСПРЕДЕЛЕНИЕ СОТРУДНИКОВ ПО ЗАРПЛАТАМ'}, xlabel='Уровень зарплаты', ylabel='Количество сотрудников, чел.'>"
      ]
     },
     "execution_count": 10,
     "metadata": {},
     "output_type": "execute_result"
    },
    {
     "data": {
      "image/png": "[encoded data removed]",
      "text/plain": [
       "<Figure size 432x288 with 1 Axes>"
      ]
     },
     "metadata": {
      "needs_background": "light"
     },
     "output_type": "display_data"
    }
   ],
   "source": [
    "# для данного графика исключать уволившихся сотрудников не будем\n",
    "data_hr.salary.value_counts().plot(kind='bar', \n",
    "                    title='РАСПРЕДЕЛЕНИЕ СОТРУДНИКОВ ПО ЗАРПЛАТАМ',\n",
    "                    xlabel='Уровень зарплаты',\n",
    "                    ylabel='Количество сотрудников, чел.',\n",
    "                    color='cadetblue')"
   ]
  },
  {
   "cell_type": "markdown",
   "metadata": {},
   "source": [
    "### 6. Показать распределение сотрудников по зарплатам в каждом департаменте по отдельности."
   ]
  },
  {
   "cell_type": "code",
   "execution_count": 11,
   "metadata": {},
   "outputs": [
    {
     "data": {
      "text/plain": [
       "<AxesSubplot:title={'center':'РАСПРЕДЕЛЕНИЕ СОТРУДНИКОВ ПО ЗАРПЛАТАМ И ДЕПАРТАМЕНТАМ'}, xlabel='department'>"
      ]
     },
     "execution_count": 11,
     "metadata": {},
     "output_type": "execute_result"
    },
    {
     "data": {
      "image/png": "[encoded data removed]",
      "text/plain": [
       "<Figure size 1080x504 with 1 Axes>"
      ]
     },
     "metadata": {
      "needs_background": "light"
     },
     "output_type": "display_data"
    }
   ],
   "source": [
    "# на данном графике покажем распределение только работающих сотрудников, т.е. зп уволившихся учитывать не будем\n",
    "# проведем расчет количества сотрудников по уровню зарплаты для каждого департамента\n",
    "df2_vc = data_hr[data_hr.left == 0].iloc[:, 8:10].value_counts().rename_axis(['department','salary']).to_frame('counts')\n",
    "df2_vc = df2_vc.reset_index(level=['department', 'salary'])\n",
    "\n",
    "# построим график\n",
    "df_dep_sal = df2_vc.pivot(index='department', columns='salary', values='counts')\n",
    "df_dep_sal.plot(kind='bar', \n",
    "                color=['gold', 'crimson', 'cadetblue'], \n",
    "                title='РАСПРЕДЕЛЕНИЕ СОТРУДНИКОВ ПО ЗАРПЛАТАМ И ДЕПАРТАМЕНТАМ',\n",
    "                figsize=(15,7))"
   ]
  },
  {
   "cell_type": "markdown",
   "metadata": {},
   "source": [
    "### 7. Проверить гипотезу, что сотрудники с высоким окладом проводят на работе больше времени, чем сотрудники с низким окладом"
   ]
  },
  {
   "cell_type": "code",
   "execution_count": 12,
   "metadata": {},
   "outputs": [],
   "source": [
    "# подготовим массивы\n",
    "workers_low_salary = data_hr[data_hr.salary == 'low'].iloc[:, 3]\n",
    "workers_high_salary = data_hr[data_hr.salary == 'high'].iloc[:, 3]"
   ]
  },
  {
   "cell_type": "markdown",
   "metadata": {},
   "source": [
    "Cформулируем нулевую и альтернативную гипотезы:\n",
    "- Н0: среднее время, которое проводят на работе сотрудники с высоким окладом и с низким окладом, одинаковое\n",
    "- Н1: среднее время, которое проводят на работе сотрудники с высоким окладом и с низким окладом, отличается\n",
    "\n",
    "За alpha будем принимать 0.05\n",
    "\n",
    "Сравниваем две независимые выборки, нужен двухвыборочный двухсторонний критерий, будем использовать Welch's Test."
   ]
  },
  {
   "cell_type": "code",
   "execution_count": 13,
   "metadata": {},
   "outputs": [
    {
     "name": "stdout",
     "output_type": "stream",
     "text": [
      "Среднее время, которое проводят на работе сотрудники с низким окладом: 201.0\n",
      "Среднее время, которое проводят на работе сотрудники с высоким окладом: 199.87\n",
      "-----\n",
      "Statistics=0.762, pvalue=0.446\n",
      "Не отвергаем нулевую гипотезу, сотрудники с низким и высоким окладом проводят на работе в среднем равное количество времени\n"
     ]
    }
   ],
   "source": [
    "from scipy import stats as st\n",
    "alpha = 0.05\n",
    "\n",
    "stat, pvalue = st.ttest_ind(workers_low_salary, workers_high_salary, equal_var=False)\n",
    "\n",
    "print('Среднее время, которое проводят на работе сотрудники с низким окладом:', round(workers_low_salary.mean(), 2))\n",
    "print('Среднее время, которое проводят на работе сотрудники с высоким окладом:', round(workers_high_salary.mean(), 2))\n",
    "print('-----')\n",
    "print('Statistics=%.3f, pvalue=%.3f' % (stat, pvalue))\n",
    "\n",
    "if pvalue < alpha: \n",
    "    print('Отвергаем нулевую гипотезу, сотрудники с низким и высоким окладом проводят на работе разное количество времени')\n",
    "else:\n",
    "    print('Не отвергаем нулевую гипотезу, сотрудники с низким и высоким окладом проводят на работе в среднем равное количество времени')"
   ]
  },
  {
   "cell_type": "markdown",
   "metadata": {},
   "source": [
    "Ответ: результаты теста показали, что нет оснований предполагать, что сотрудники, получающие высокий оклад, проводят на работе больше времени, чем сотрудники с низким окладом, но есть все основания считать, что эти сотрудники тратят в среднем равное количество часов на рабочем месте в месяц."
   ]
  },
  {
   "cell_type": "markdown",
   "metadata": {},
   "source": [
    "### 8. Рассчитать следующие показатели среди уволившихся и неуволившихся сотрудников (по отдельности):"
   ]
  },
  {
   "cell_type": "markdown",
   "metadata": {},
   "source": [
    "- Доля сотрудников с повышением за последние 5 лет\n",
    "- Средняя степень удовлетворенности\n",
    "- Среднее количество проектов"
   ]
  },
  {
   "cell_type": "code",
   "execution_count": 14,
   "metadata": {},
   "outputs": [],
   "source": [
    "workers_ = data_hr[data_hr.left == 0]\n",
    "workers_left = data_hr[data_hr.left == 1]"
   ]
  },
  {
   "cell_type": "markdown",
   "metadata": {},
   "source": [
    "1. Показатели среди уволившихся сотрудников:"
   ]
  },
  {
   "cell_type": "code",
   "execution_count": 15,
   "metadata": {},
   "outputs": [
    {
     "name": "stdout",
     "output_type": "stream",
     "text": [
      "● Доля сотрудников с повышением за последние 5 лет: 0.01\n",
      "● Средняя степень удовлетворенности: 0.44\n",
      "● Среднее количество проектов: 4.0\n"
     ]
    }
   ],
   "source": [
    "print('● Доля сотрудников с повышением за последние 5 лет:',round(len(workers_left[workers_left.promotion_last_5years == 1]) / len(workers_left),2))\n",
    "print('● Средняя степень удовлетворенности:',round(workers_left.satisfaction_level.mean(),2))\n",
    "print('● Среднее количество проектов:',round(workers_left.number_project.mean(),0))"
   ]
  },
  {
   "cell_type": "markdown",
   "metadata": {},
   "source": [
    "2. Показатели среди неуволившихся сотрудников:"
   ]
  },
  {
   "cell_type": "code",
   "execution_count": 16,
   "metadata": {},
   "outputs": [
    {
     "name": "stdout",
     "output_type": "stream",
     "text": [
      "● Доля сотрудников с повышением за последние 5 лет: 0.03\n",
      "● Средняя степень удовлетворенности: 0.67\n",
      "● Среднее количество проектов: 4.0\n"
     ]
    }
   ],
   "source": [
    "print('● Доля сотрудников с повышением за последние 5 лет:',round(len(workers_[workers_.promotion_last_5years == 1]) / len(workers_),2))\n",
    "print('● Средняя степень удовлетворенности:',round(workers_.satisfaction_level.mean(),2))\n",
    "print('● Среднее количество проектов:',round(workers_.number_project.mean(),0))"
   ]
  },
  {
   "cell_type": "markdown",
   "metadata": {},
   "source": [
    "### 9. Разделить данные на тестовую и обучающую выборки. Построить модель LDA, предсказывающую уволится ли сотрудник на основе имеющихся факторов (кроме department и salary). Оценить качество модели на тестовой выборке."
   ]
  },
  {
   "cell_type": "code",
   "execution_count": 17,
   "metadata": {
    "scrolled": true
   },
   "outputs": [
    {
     "data": {
      "text/html": [
       "<div>\n",
       "<style scoped>\n",
       "    .dataframe tbody tr th:only-of-type {\n",
       "        vertical-align: middle;\n",
       "    }\n",
       "\n",
       "    .dataframe tbody tr th {\n",
       "        vertical-align: top;\n",
       "    }\n",
       "\n",
       "    .dataframe thead th {\n",
       "        text-align: right;\n",
       "    }\n",
       "</style>\n",
       "<table border=\"1\" class=\"dataframe\">\n",
       "  <thead>\n",
       "    <tr style=\"text-align: right;\">\n",
       "      <th></th>\n",
       "      <th>satisfaction_level</th>\n",
       "      <th>last_evaluation</th>\n",
       "      <th>number_project</th>\n",
       "      <th>average_montly_hours</th>\n",
       "      <th>time_spend_company</th>\n",
       "      <th>Work_accident</th>\n",
       "      <th>left</th>\n",
       "      <th>promotion_last_5years</th>\n",
       "      <th>department</th>\n",
       "      <th>salary</th>\n",
       "    </tr>\n",
       "  </thead>\n",
       "  <tbody>\n",
       "    <tr>\n",
       "      <th>0</th>\n",
       "      <td>0.38</td>\n",
       "      <td>0.53</td>\n",
       "      <td>2</td>\n",
       "      <td>157</td>\n",
       "      <td>3</td>\n",
       "      <td>0</td>\n",
       "      <td>1</td>\n",
       "      <td>0</td>\n",
       "      <td>sales</td>\n",
       "      <td>low</td>\n",
       "    </tr>\n",
       "    <tr>\n",
       "      <th>1</th>\n",
       "      <td>0.80</td>\n",
       "      <td>0.86</td>\n",
       "      <td>5</td>\n",
       "      <td>262</td>\n",
       "      <td>6</td>\n",
       "      <td>0</td>\n",
       "      <td>1</td>\n",
       "      <td>0</td>\n",
       "      <td>sales</td>\n",
       "      <td>medium</td>\n",
       "    </tr>\n",
       "    <tr>\n",
       "      <th>2</th>\n",
       "      <td>0.11</td>\n",
       "      <td>0.88</td>\n",
       "      <td>7</td>\n",
       "      <td>272</td>\n",
       "      <td>4</td>\n",
       "      <td>0</td>\n",
       "      <td>1</td>\n",
       "      <td>0</td>\n",
       "      <td>sales</td>\n",
       "      <td>medium</td>\n",
       "    </tr>\n",
       "    <tr>\n",
       "      <th>3</th>\n",
       "      <td>0.72</td>\n",
       "      <td>0.87</td>\n",
       "      <td>5</td>\n",
       "      <td>223</td>\n",
       "      <td>5</td>\n",
       "      <td>0</td>\n",
       "      <td>1</td>\n",
       "      <td>0</td>\n",
       "      <td>sales</td>\n",
       "      <td>low</td>\n",
       "    </tr>\n",
       "    <tr>\n",
       "      <th>4</th>\n",
       "      <td>0.37</td>\n",
       "      <td>0.52</td>\n",
       "      <td>2</td>\n",
       "      <td>159</td>\n",
       "      <td>3</td>\n",
       "      <td>0</td>\n",
       "      <td>1</td>\n",
       "      <td>0</td>\n",
       "      <td>sales</td>\n",
       "      <td>low</td>\n",
       "    </tr>\n",
       "  </tbody>\n",
       "</table>\n",
       "</div>"
      ],
      "text/plain": [
       "   satisfaction_level  last_evaluation  number_project  average_montly_hours  \\\n",
       "0                0.38             0.53               2                   157   \n",
       "1                0.80             0.86               5                   262   \n",
       "2                0.11             0.88               7                   272   \n",
       "3                0.72             0.87               5                   223   \n",
       "4                0.37             0.52               2                   159   \n",
       "\n",
       "   time_spend_company  Work_accident  left  promotion_last_5years department  \\\n",
       "0                   3              0     1                      0      sales   \n",
       "1                   6              0     1                      0      sales   \n",
       "2                   4              0     1                      0      sales   \n",
       "3                   5              0     1                      0      sales   \n",
       "4                   3              0     1                      0      sales   \n",
       "\n",
       "   salary  \n",
       "0     low  \n",
       "1  medium  \n",
       "2  medium  \n",
       "3     low  \n",
       "4     low  "
      ]
     },
     "execution_count": 17,
     "metadata": {},
     "output_type": "execute_result"
    }
   ],
   "source": [
    "data_hr.head()"
   ]
  },
  {
   "cell_type": "code",
   "execution_count": 18,
   "metadata": {},
   "outputs": [],
   "source": [
    "df = data_hr.iloc[:, 0:8]  # оставляем только количественные переменные\n",
    "\n",
    "# разделяем данные на выборку для обучения и тестирования\n",
    "from sklearn.model_selection import train_test_split\n",
    "X_train, X_test, y_train, y_test = train_test_split(df.loc[:,df.columns!='left'], df.left, test_size=0.30, random_state=42)"
   ]
  },
  {
   "cell_type": "code",
   "execution_count": 19,
   "metadata": {},
   "outputs": [
    {
     "data": {
      "text/plain": [
       "0.7557777777777778"
      ]
     },
     "execution_count": 19,
     "metadata": {},
     "output_type": "execute_result"
    }
   ],
   "source": [
    "# импортируем LDA-функционал\n",
    "from sklearn.discriminant_analysis import LinearDiscriminantAnalysis\n",
    "lda = LinearDiscriminantAnalysis()\n",
    "\n",
    "# обучаем данные\n",
    "lda.fit(X_train, y_train)\n",
    "\n",
    "# делаем прогноз на тестовой выборке\n",
    "y_pred = lda.predict(X_test)\n",
    "\n",
    "# определяем точность прогноза \n",
    "from sklearn.metrics import accuracy_score\n",
    "accuracy_score(y_test, y_pred)"
   ]
  },
  {
   "cell_type": "code",
   "execution_count": 20,
   "metadata": {},
   "outputs": [
    {
     "data": {
      "text/plain": [
       "array([[3138,  290],\n",
       "       [ 809,  263]])"
      ]
     },
     "execution_count": 20,
     "metadata": {},
     "output_type": "execute_result"
    }
   ],
   "source": [
    "# Опишем результаты при помощи confusion_matrix и classification_report\n",
    "from sklearn.metrics import confusion_matrix\n",
    "confusion_matrix(y_test, y_pred)"
   ]
  },
  {
   "cell_type": "code",
   "execution_count": 21,
   "metadata": {},
   "outputs": [
    {
     "name": "stdout",
     "output_type": "stream",
     "text": [
      "Classification Report : \n",
      "              precision    recall  f1-score   support\n",
      "\n",
      "           0       0.80      0.92      0.85      3428\n",
      "           1       0.48      0.25      0.32      1072\n",
      "\n",
      "    accuracy                           0.76      4500\n",
      "   macro avg       0.64      0.58      0.59      4500\n",
      "weighted avg       0.72      0.76      0.73      4500\n",
      "\n"
     ]
    }
   ],
   "source": [
    "from sklearn.metrics import classification_report\n",
    "print('Classification Report : ')\n",
    "print (classification_report(y_test, y_pred))"
   ]
  },
  {
   "cell_type": "markdown",
   "metadata": {},
   "source": [
    "Вывод: всего было 3138 истинных положительных результатов, 290 ложных положительных результатов, 809 ложных отрицательных и 263 истинных отрицательных. Precision (0.48) говорит нам, что в 48% случаев модель распознает, уволится ли сотрудник. Recall (0.25) говорит нам, что в 75% случаев модель посчитает, что сотрудник, не намеренный увольняться, уволится."
   ]
  }
 ],
 "metadata": {
  "kernelspec": {
   "display_name": "Python 3",
   "language": "python",
   "name": "python3"
  },
  "language_info": {
   "codemirror_mode": {
    "name": "ipython",
    "version": 3
   },
   "file_extension": ".py",
   "mimetype": "text/x-python",
   "name": "python",
   "nbconvert_exporter": "python",
   "pygments_lexer": "ipython3",
   "version": "3.8.8"
  }
 },
 "nbformat": 4,
 "nbformat_minor": 4
}
