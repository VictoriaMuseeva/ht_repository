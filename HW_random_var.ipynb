{
 "cells": [
  {
   "cell_type": "markdown",
   "metadata": {},
   "source": [
    "# Домашнее задание к лекции"
   ]
  },
  {
   "cell_type": "markdown",
   "metadata": {},
   "source": [
    "Смоделировать игру против лотерейного автомата типа “777”. Игрок платит 1 руб., после чего выпадает случайное целое число, равномерно распределенное от 0 до 999. При некоторых значениях числа игрок получает выигрыш\n",
    "\n",
    "- Выгодна ли игра игроку?\n",
    "\n",
    "- Сколько в среднем приобретает или теряет игрок за одну игру?"
   ]
  },
  {
   "cell_type": "code",
   "execution_count": 1,
   "metadata": {},
   "outputs": [],
   "source": [
    "import numpy as np"
   ]
  },
  {
   "cell_type": "code",
   "execution_count": 9,
   "metadata": {},
   "outputs": [
    {
     "name": "stdout",
     "output_type": "stream",
     "text": [
      "204571 1000000 0.204571 0.204 802059 -0.197941\n"
     ]
    }
   ],
   "source": [
    "trials = 1000000    # Количество попыток / игр = сумма (руб.), потраченная на игры\n",
    "successes = 0       # Количество успехов\n",
    "prize = 0           # Сумма выигрыша\n",
    "\n",
    "for i in range(trials):\n",
    "    random_score = np.random.randint(0, 1000)    # Случайное число от 0 до 999\n",
    "    if random_score == 777:\n",
    "        successes += 1\n",
    "        prize += 200\n",
    "    elif random_score == 999:\n",
    "        successes += 1\n",
    "        prize += 100\n",
    "    elif random_score == 555:\n",
    "        successes += 1\n",
    "        prize += 50\n",
    "    elif random_score == 333:\n",
    "        successes += 1\n",
    "        prize += 15\n",
    "    elif random_score == 111:\n",
    "        successes += 1\n",
    "        prize += 10\n",
    "    elif (random_score % 100) == 77:\n",
    "        successes += 1\n",
    "        prize += 5\n",
    "    elif (random_score % 100) == 0:\n",
    "        successes += 1\n",
    "        prize += 2\n",
    "    elif (random_score % 10) == 7:\n",
    "        successes += 1\n",
    "        prize += 3\n",
    "    elif (random_score % 10) == 0:\n",
    "        successes += 1\n",
    "        prize += 1\n",
    "        \n",
    "p_monte_carlo = successes / trials    # Вероятность выигрыша\n",
    "p = 204 / 1000                        # Теоретическая вероятность\n",
    "\n",
    "prize_sum = (prize - trials) / trials # Сумма (руб.), которую в среднем приобретает или теряет игрок за одну игру\n",
    "\n",
    "print(p_monte_carlo, p, prize, prize_sum)"
   ]
  },
  {
   "cell_type": "markdown",
   "metadata": {},
   "source": [
    "Ответ:\n",
    "1. Игра не выгодна, вероятность выигрыша - 0,2\n",
    "2. В среднем за 1 игру игрок теряет 20 копеек"
   ]
  },
  {
   "cell_type": "markdown",
   "metadata": {},
   "source": [
    "# Дополнительное задание повышенной сложности"
   ]
  },
  {
   "cell_type": "markdown",
   "metadata": {},
   "source": [
    "Теоретически рассчитать средний выигрыш (проигрыш) и сравнить с результатами моделирования"
   ]
  },
  {
   "cell_type": "code",
   "execution_count": 22,
   "metadata": {},
   "outputs": [
    {
     "name": "stdout",
     "output_type": "stream",
     "text": [
      "0.2\n"
     ]
    }
   ],
   "source": [
    "var1 = 0.001        # Вероятность выпадения числа 777 и выигрыша 200 руб.\n",
    "var2 = 0.001        # Вероятность выпадения числа 999 и выигрыша 100 руб.\n",
    "var3 = 0.001        # Вероятность выпадения числа 555 и выигрыша 50 руб.\n",
    "var4 = 0.001        # Вероятность выпадения числа 333 и выигрыша 15 руб.\n",
    "var5 = 0.001        # Вероятность выпадения числа 111 и выигрыша 10 руб.\n",
    "var6 = 0.009        # Вероятность выпадения числа *77 и выигрыша 5 руб.\n",
    "var7 = 0.09         # Вероятность выпадения числа **7 и выигрыша 3 руб.\n",
    "var8 = 0.01         # Вероятность выпадения числа *00 и выигрыша 2 руб.\n",
    "var9 = 0.09         # Вероятность выпадения числа **0 и выигрыша 1 руб.\n",
    "\n",
    "p_sum = 1 - (200*var1 + 100*var2 + 50*var3 + 15*var4 + 10*var5 + 5*var6 + 3*var7 + 2*var8 + 1*var9)\n",
    "print(round(p_sum, 2))"
   ]
  },
  {
   "cell_type": "markdown",
   "metadata": {},
   "source": [
    "Ответ: в среднем за 1 игру игрок теряет 20 копеек - результат совпал с моделированием"
   ]
  }
 ],
 "metadata": {
  "kernelspec": {
   "display_name": "Python 3",
   "language": "python",
   "name": "python3"
  },
  "language_info": {
   "codemirror_mode": {
    "name": "ipython",
    "version": 3
   },
   "file_extension": ".py",
   "mimetype": "text/x-python",
   "name": "python",
   "nbconvert_exporter": "python",
   "pygments_lexer": "ipython3",
   "version": "3.8.5"
  }
 },
 "nbformat": 4,
 "nbformat_minor": 4
}
